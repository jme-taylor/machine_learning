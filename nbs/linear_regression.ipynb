{
 "cells": [
  {
   "cell_type": "code",
   "execution_count": 1,
   "metadata": {},
   "outputs": [],
   "source": [
    "import matplotlib.pyplot as plt\n",
    "import numpy as np\n",
    "from sklearn.datasets import make_regression\n",
    "\n",
    "from machine_learning.linear_regression import LinearRegression"
   ]
  },
  {
   "cell_type": "markdown",
   "metadata": {},
   "source": [
    "# Linear Regression\n",
    "\n",
    "Quick notebook testing out the Linear Regression class that I've built.\n",
    "\n",
    "First step is to make a regression dataset. We'll use the `make_regression` class from `scikit-learn` for this. We'll also keep a random state in to make sure we're generating the same data each run of this notebook."
   ]
  },
  {
   "cell_type": "code",
   "execution_count": 2,
   "metadata": {},
   "outputs": [],
   "source": [
    "x, y = make_regression(n_samples=1000, n_features=10, random_state=42)"
   ]
  },
  {
   "cell_type": "markdown",
   "metadata": {},
   "source": [
    "Initialise the class and then fit the model. We'll use a learning rate of `0.01` and the number of iterations of gradient descent at 1000."
   ]
  },
  {
   "cell_type": "code",
   "execution_count": 3,
   "metadata": {},
   "outputs": [],
   "source": [
    "lr = LinearRegression(learning_rate=0.01, num_iterations=1000)"
   ]
  },
  {
   "cell_type": "code",
   "execution_count": 4,
   "metadata": {},
   "outputs": [],
   "source": [
    "lr.fit(x, y)"
   ]
  },
  {
   "cell_type": "markdown",
   "metadata": {},
   "source": [
    "The `LinearRegression` class stores all the costs for each iteration of gradient descent. We can plot this against the number of epochs to make sure we are indeed minimizing the loss function."
   ]
  },
  {
   "cell_type": "code",
   "execution_count": 5,
   "metadata": {},
   "outputs": [
    {
     "data": {
      "image/png": "[encoded data removed]",
      "text/plain": [
       "<Figure size 432x288 with 1 Axes>"
      ]
     },
     "metadata": {
      "needs_background": "light"
     },
     "output_type": "display_data"
    }
   ],
   "source": [
    "fig, ax = plt.subplots()\n",
    "\n",
    "epochs = range(len(lr.costs))\n",
    "\n",
    "ax.plot(epochs, lr.costs)\n",
    "ax.set(\n",
    "    title='MSE over epoch of gradient descent',\n",
    "    ylabel='Mean Squared Error (MSE)',\n",
    "    xlabel='Epoch'\n",
    ")\n",
    "\n",
    "plt.show()"
   ]
  },
  {
   "cell_type": "markdown",
   "metadata": {},
   "source": [
    "Nice. We can also check our solution's coefficients and predictions against `sklearn`'s. "
   ]
  },
  {
   "cell_type": "code",
   "execution_count": 6,
   "metadata": {},
   "outputs": [],
   "source": [
    "from sklearn.linear_model import LinearRegression as LinearRegressionSKLEARN"
   ]
  },
  {
   "cell_type": "code",
   "execution_count": 7,
   "metadata": {},
   "outputs": [
    {
     "data": {
      "text/plain": [
       "array([32.12551734, 76.33080772, 33.6926875 ,  9.42759779,  5.16621758,\n",
       "       58.28693612, 29.43481665,  7.18075454, 10.30191944, 75.31997019])"
      ]
     },
     "execution_count": 7,
     "metadata": {},
     "output_type": "execute_result"
    }
   ],
   "source": [
    "lr2 = LinearRegressionSKLEARN(n_jobs=1000)\n",
    "lr2.fit(x, y)\n",
    "lr2.coef_"
   ]
  },
  {
   "cell_type": "code",
   "execution_count": 8,
   "metadata": {},
   "outputs": [
    {
     "data": {
      "text/plain": [
       "array([32.12551599, 76.33080479, 33.69268666,  9.427599  ,  5.1662172 ,\n",
       "       58.28693611, 29.434816  ,  7.18075546, 10.30191972, 75.31996971])"
      ]
     },
     "execution_count": 8,
     "metadata": {},
     "output_type": "execute_result"
    }
   ],
   "source": [
    "lr.W"
   ]
  },
  {
   "cell_type": "code",
   "execution_count": 9,
   "metadata": {},
   "outputs": [],
   "source": [
    "sklearn_predictions = lr2.predict(x)\n",
    "own_predictions = lr.predict(x)"
   ]
  },
  {
   "cell_type": "code",
   "execution_count": 10,
   "metadata": {},
   "outputs": [
    {
     "data": {
      "text/plain": [
       "2.8671528811823886e-06"
      ]
     },
     "execution_count": 10,
     "metadata": {},
     "output_type": "execute_result"
    }
   ],
   "source": [
    "error = abs(sklearn_predictions - own_predictions)\n",
    "error.mean()"
   ]
  },
  {
   "cell_type": "code",
   "execution_count": 11,
   "metadata": {},
   "outputs": [
    {
     "data": {
      "text/plain": [
       "8.699843180772083e-07"
      ]
     },
     "execution_count": 11,
     "metadata": {},
     "output_type": "execute_result"
    }
   ],
   "source": [
    "# normalize this against the scale of the data we're using\n",
    "error.mean() / y.mean()"
   ]
  },
  {
   "cell_type": "markdown",
   "metadata": {},
   "source": [
    "That's an acceptable level of difference for me."
   ]
  }
 ],
 "metadata": {
  "kernelspec": {
   "display_name": "Python 3.9.13 ('machine-learning-Fr9fcRi6-py3.9')",
   "language": "python",
   "name": "python3"
  },
  "language_info": {
   "codemirror_mode": {
    "name": "ipython",
    "version": 3
   },
   "file_extension": ".py",
   "mimetype": "text/x-python",
   "name": "python",
   "nbconvert_exporter": "python",
   "pygments_lexer": "ipython3",
   "version": "3.9.13"
  },
  "orig_nbformat": 4,
  "vscode": {
   "interpreter": {
    "hash": "72618425a161e9fb860b01f3807eecd277001e281ca24086b39625b29a59c38f"
   }
  }
 },
 "nbformat": 4,
 "nbformat_minor": 2
}
